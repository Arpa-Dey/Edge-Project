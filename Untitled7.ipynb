{
  "nbformat": 4,
  "nbformat_minor": 0,
  "metadata": {
    "colab": {
      "provenance": [],
      "authorship_tag": "ABX9TyNMMrskip1tqbn0a5YAZTiG",
      "include_colab_link": true
    },
    "kernelspec": {
      "name": "python3",
      "display_name": "Python 3"
    },
    "language_info": {
      "name": "python"
    }
  },
  "cells": [
    {
      "cell_type": "markdown",
      "metadata": {
        "id": "view-in-github",
        "colab_type": "text"
      },
      "source": [
        "<a href=\"https://colab.research.google.com/github/Arpa-Dey/Edge-Project/blob/main/Untitled7.ipynb\" target=\"_parent\"><img src=\"https://colab.research.google.com/assets/colab-badge.svg\" alt=\"Open In Colab\"/></a>"
      ]
    },
    {
      "cell_type": "code",
      "source": [
        "from datetime import datetime\n",
        "\n",
        "def calculate_days_between_dates(date1, date2, date_format):\n",
        "    try:\n",
        "        # Convert strings to datetime objects based on the user-specified format\n",
        "        d1 = datetime.strptime(date1, date_format)\n",
        "        d2 = datetime.strptime(date2, date_format)\n",
        "        # Calculate the difference in days\n",
        "        delta = abs((d2 - d1).days)\n",
        "        return delta\n",
        "    except ValueError as e:\n",
        "        return f\"Invalid date format: {e}\"\n",
        "\n",
        "def main():\n",
        "    print(\"Welcome to the Days Between Dates Calculator!\")\n",
        "\n",
        "    # Let the user choose the date format\n",
        "    print(\"Choose your date format:\")\n",
        "    print(\"1: YYYY-MM-DD (e.g., 2025-01-23)\")\n",
        "    print(\"2: DD-MM-YYYY (e.g., 23-01-2025)\")\n",
        "    print(\"3: MM/DD/YYYY (e.g., 01/23/2025)\")\n",
        "    format_choice = input(\"Enter the number corresponding to your choice: \")\n",
        "\n",
        "    # Map choice to actual date format\n",
        "    date_formats = {\n",
        "        \"1\": \"%Y-%m-%d\",\n",
        "        \"2\": \"%d-%m-%Y\",\n",
        "        \"3\": \"%m/%d/%Y\"\n",
        "    }\n",
        "\n",
        "    date_format = date_formats.get(format_choice)\n",
        "    if not date_format:\n",
        "        print(\"Invalid choice. Please restart the program and choose a valid format.\")\n",
        "        return\n",
        "\n",
        "    # Let the user choose how they want to input the dates\n",
        "    print(\"\\nHow do you want to input the dates?\")\n",
        "    print(\"1: Enter both dates manually\")\n",
        "    print(\"2: Enter dates as a comma-separated string (e.g., 2025-01-01, 2023-12-31)\")\n",
        "    input_choice = input(\"Enter the number corresponding to your choice: \")\n",
        "\n",
        "    if input_choice == \"1\":\n",
        "        date1 = input(f\"Enter the first date ({date_format}): \")\n",
        "        date2 = input(f\"Enter the second date ({date_format}): \")\n",
        "    elif input_choice == \"2\":\n",
        "        date_input = input(f\"Enter both dates as a comma-separated string ({date_format}, {date_format}): \")\n",
        "        try:\n",
        "            date1, date2 = [d.strip() for d in date_input.split(\",\")]\n",
        "        except ValueError:\n",
        "            print(\"Invalid input format. Please restart the program and try again.\")\n",
        "            return\n",
        "    else:\n",
        "        print(\"Invalid choice. Please restart the program and choose a valid input method.\")\n",
        "        return\n",
        "\n",
        "    # Calculate and display the result\n",
        "    days_between = calculate_days_between_dates(date1, date2, date_format)\n",
        "    if isinstance(days_between, int):\n",
        "        print(f\"\\nThe number of days between {date1} and {date2} is: {days_between} days\")\n",
        "    else:\n",
        "        print(f\"\\nError: {days_between}\")\n",
        "\n",
        "if __name__ == \"__main__\":\n",
        "    main()\n"
      ],
      "metadata": {
        "colab": {
          "base_uri": "https://localhost:8080/"
        },
        "id": "nCz2n262hJxc",
        "outputId": "45f3fea7-58d7-49d6-acea-88cb2a422e25"
      },
      "execution_count": 3,
      "outputs": [
        {
          "output_type": "stream",
          "name": "stdout",
          "text": [
            "Welcome to the Days Between Dates Calculator!\n",
            "Choose your date format:\n",
            "1: YYYY-MM-DD (e.g., 2025-01-23)\n",
            "2: DD-MM-YYYY (e.g., 23-01-2025)\n",
            "3: MM/DD/YYYY (e.g., 01/23/2025)\n",
            "Enter the number corresponding to your choice: 1\n",
            "\n",
            "How do you want to input the dates?\n",
            "1: Enter both dates manually\n",
            "2: Enter dates as a comma-separated string (e.g., 2025-01-01, 2023-12-31)\n",
            "Enter the number corresponding to your choice: 2\n",
            "Enter both dates as a comma-separated string (%Y-%m-%d, %Y-%m-%d): 2024-02-21,2025-03-19\n",
            "\n",
            "The number of days between 2024-02-21 and 2025-03-19 is: 392 days\n"
          ]
        }
      ]
    }
  ]
}